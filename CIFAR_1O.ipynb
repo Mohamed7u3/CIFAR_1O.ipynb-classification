{
  "nbformat": 4,
  "nbformat_minor": 0,
  "metadata": {
    "colab": {
      "name": "Untitled0.ipynb",
      "provenance": [],
      "collapsed_sections": []
    },
    "kernelspec": {
      "name": "python3",
      "display_name": "Python 3"
    },
    "language_info": {
      "name": "python"
    },
    "accelerator": "GPU"
  },
  "cells": [
    {
      "cell_type": "code",
      "metadata": {
        "id": "cQ0lwYSQUDKW"
      },
      "source": [
        "import numpy as np\n",
        "import matplotlib.pyplot as plt\n",
        "%matplotlib inline\n",
        "import tensorflow as tf \n",
        "import tensorflow.keras as K\n",
        "from tensorflow.keras.layers import Input, Conv2D, Dense, Flatten, Dropout\n",
        "from tensorflow.keras.layers import GlobalMaxPooling2D, MaxPooling2D,UpSampling2D\n",
        "from tensorflow.keras.layers import BatchNormalization\n",
        "from tensorflow.keras.models import Model"
      ],
      "execution_count": null,
      "outputs": []
    },
    {
      "cell_type": "code",
      "metadata": {
        "id": "KXZw05tDXQhi",
        "colab": {
          "base_uri": "https://localhost:8080/"
        },
        "outputId": "a6f80fe3-1fa0-431c-81db-8f5b24aadd5b"
      },
      "source": [
        "# Load in the data\n",
        "cifar10 = tf.keras.datasets.cifar10\n",
        " \n",
        "# Distribute it to train and test set\n",
        "(x_train, y_train), (x_test, y_test) = cifar10.load_data()\n",
        "print(x_train.shape, y_train.shape, x_test.shape, y_test.shape)"
      ],
      "execution_count": null,
      "outputs": [
        {
          "output_type": "stream",
          "name": "stdout",
          "text": [
            "(50000, 32, 32, 3) (50000, 1) (10000, 32, 32, 3) (10000, 1)\n"
          ]
        }
      ]
    },
    {
      "cell_type": "code",
      "metadata": {
        "id": "adzICutwZVfq",
        "colab": {
          "base_uri": "https://localhost:8080/",
          "height": 283
        },
        "outputId": "364f7e10-e8a3-4e4e-fd28-9e8f8f9d14a0"
      },
      "source": [
        "plt.imshow(x_train[0])"
      ],
      "execution_count": null,
      "outputs": [
        {
          "output_type": "execute_result",
          "data": {
            "text/plain": [
              "<matplotlib.image.AxesImage at 0x7fcc65ee2750>"
            ]
          },
          "metadata": {},
          "execution_count": 3
        },
        {
          "output_type": "display_data",
          "data": {
            "image/png": "[encoded data removed]",
            "text/plain": [
              "<Figure size 432x288 with 1 Axes>"
            ]
          },
          "metadata": {
            "needs_background": "light"
          }
        }
      ]
    },
    {
      "cell_type": "code",
      "metadata": {
        "id": "KJGRC0OKZViW"
      },
      "source": [
        "x_train = x_train.astype('float32')\n",
        "x_test = x_test.astype('float32')\n",
        "x_train = x_train / 255.0\n",
        "x_test = x_test / 255.0"
      ],
      "execution_count": null,
      "outputs": []
    },
    {
      "cell_type": "code",
      "metadata": {
        "id": "PmGB_LcYZVky"
      },
      "source": [
        "#X_train = K.applications.vgg16.preprocess_input(x_train)\n",
        "Y_train= K.utils.to_categorical(y_train, 10)"
      ],
      "execution_count": null,
      "outputs": []
    },
    {
      "cell_type": "code",
      "metadata": {
        "id": "BbE0SEDlZVnJ"
      },
      "source": [
        "#X_test= K.applications.vgg16.preprocess_input(x_test)\n",
        "Y_test= K.utils.to_categorical(y_test, 10)"
      ],
      "execution_count": null,
      "outputs": []
    },
    {
      "cell_type": "code",
      "metadata": {
        "id": "9nMTZXn5ZVpn"
      },
      "source": [
        "cnn = K.applications.vgg16.VGG16(include_top=False,\n",
        "                                 weights='imagenet',\n",
        "                                 pooling='avg',\n",
        "                                 input_shape=(32, 32, 3)\n",
        "                                 )"
      ],
      "execution_count": null,
      "outputs": []
    },
    {
      "cell_type": "code",
      "metadata": {
        "id": "fnKRuMJhZiyj"
      },
      "source": [
        "CNN= K.Sequential()\n",
        "CNN.add(cnn)\n",
        "CNN.add(Flatten())\n",
        "CNN.add(Dense(512, activation=('relu'))) \n",
        "#CNN.add(Dropout(0.5))\n",
        "#CNN.add(Dense(256, activation=('relu')))\n",
        "CNN.add(BatchNormalization())\n",
        "CNN.add(Dropout(0.5))\n",
        "CNN.add(Dense(10, activation=('sigmoid')))"
      ],
      "execution_count": null,
      "outputs": []
    },
    {
      "cell_type": "code",
      "metadata": {
        "id": "OcXeMQhEZi1I",
        "colab": {
          "base_uri": "https://localhost:8080/"
        },
        "outputId": "1660516d-9808-49a7-82bc-10581165fcad"
      },
      "source": [
        "from tensorflow.keras import optimizers\n",
        "\n",
        "opt = optimizers.SGD(lr=0.001, momentum=0.9)\n",
        "CNN.compile(optimizer=opt, loss='categorical_crossentropy', metrics=['accuracy'])"
      ],
      "execution_count": null,
      "outputs": [
        {
          "output_type": "stream",
          "name": "stderr",
          "text": [
            "/usr/local/lib/python3.7/dist-packages/keras/optimizer_v2/optimizer_v2.py:356: UserWarning: The `lr` argument is deprecated, use `learning_rate` instead.\n",
            "  \"The `lr` argument is deprecated, use `learning_rate` instead.\")\n"
          ]
        }
      ]
    },
    {
      "cell_type": "code",
      "metadata": {
        "id": "Y_d0CRa8Zi3f",
        "colab": {
          "base_uri": "https://localhost:8080/"
        },
        "outputId": "3932f2a7-b039-4309-f08a-9511e5153263"
      },
      "source": [
        "his = CNN.fit(x=x_train, y=Y_train,\n",
        "        batch_size=64,\n",
        "        validation_data=(x_test, Y_test),\n",
        "        epochs=15, shuffle=True,\n",
        "        verbose=1\n",
        "        )"
      ],
      "execution_count": null,
      "outputs": [
        {
          "output_type": "stream",
          "name": "stdout",
          "text": [
            "Epoch 1/15\n",
            "782/782 [==============================] - 69s 84ms/step - loss: 0.9414 - accuracy: 0.6809 - val_loss: 0.7156 - val_accuracy: 0.7567\n",
            "Epoch 2/15\n",
            "782/782 [==============================] - 64s 82ms/step - loss: 0.5565 - accuracy: 0.8092 - val_loss: 0.6781 - val_accuracy: 0.7759\n",
            "Epoch 3/15\n",
            "782/782 [==============================] - 65s 83ms/step - loss: 0.4220 - accuracy: 0.8547 - val_loss: 0.7584 - val_accuracy: 0.7668\n",
            "Epoch 4/15\n",
            "782/782 [==============================] - 64s 82ms/step - loss: 0.3262 - accuracy: 0.8884 - val_loss: 0.5468 - val_accuracy: 0.8234\n",
            "Epoch 5/15\n",
            "782/782 [==============================] - 64s 82ms/step - loss: 0.2531 - accuracy: 0.9123 - val_loss: 0.5463 - val_accuracy: 0.8306\n",
            "Epoch 6/15\n",
            "782/782 [==============================] - 64s 82ms/step - loss: 0.1831 - accuracy: 0.9367 - val_loss: 0.5644 - val_accuracy: 0.8322\n",
            "Epoch 7/15\n",
            "782/782 [==============================] - 64s 82ms/step - loss: 0.1232 - accuracy: 0.9593 - val_loss: 0.7244 - val_accuracy: 0.8018\n",
            "Epoch 8/15\n",
            "782/782 [==============================] - 64s 82ms/step - loss: 0.0847 - accuracy: 0.9734 - val_loss: 0.5944 - val_accuracy: 0.8447\n",
            "Epoch 9/15\n",
            "782/782 [==============================] - 64s 82ms/step - loss: 0.0543 - accuracy: 0.9835 - val_loss: 0.5567 - val_accuracy: 0.8547\n",
            "Epoch 10/15\n",
            "782/782 [==============================] - 64s 82ms/step - loss: 0.0346 - accuracy: 0.9901 - val_loss: 0.5500 - val_accuracy: 0.8645\n",
            "Epoch 11/15\n",
            "782/782 [==============================] - 65s 83ms/step - loss: 0.0175 - accuracy: 0.9962 - val_loss: 0.6019 - val_accuracy: 0.8599\n",
            "Epoch 12/15\n",
            "782/782 [==============================] - 65s 83ms/step - loss: 0.0152 - accuracy: 0.9962 - val_loss: 0.6047 - val_accuracy: 0.8608\n",
            "Epoch 13/15\n",
            "782/782 [==============================] - 65s 83ms/step - loss: 0.0065 - accuracy: 0.9992 - val_loss: 0.6245 - val_accuracy: 0.8615\n",
            "Epoch 14/15\n",
            "782/782 [==============================] - 65s 83ms/step - loss: 0.0024 - accuracy: 1.0000 - val_loss: 0.5660 - val_accuracy: 0.8739\n",
            "Epoch 15/15\n",
            "782/782 [==============================] - 65s 83ms/step - loss: 0.0021 - accuracy: 0.9998 - val_loss: 0.5679 - val_accuracy: 0.8744\n"
          ]
        }
      ]
    },
    {
      "cell_type": "code",
      "metadata": {
        "id": "cRSrzSNDZi5i",
        "colab": {
          "base_uri": "https://localhost:8080/"
        },
        "outputId": "5ea57eed-cd89-4b14-a57c-eacaeab65730"
      },
      "source": [
        "CNN.evaluate(x_test,Y_test)"
      ],
      "execution_count": null,
      "outputs": [
        {
          "output_type": "stream",
          "name": "stdout",
          "text": [
            "313/313 [==============================] - 7s 20ms/step - loss: 0.5679 - accuracy: 0.8744\n"
          ]
        },
        {
          "output_type": "execute_result",
          "data": {
            "text/plain": [
              "[0.5679095387458801, 0.8744000196456909]"
            ]
          },
          "metadata": {},
          "execution_count": 11
        }
      ]
    },
    {
      "cell_type": "code",
      "metadata": {
        "colab": {
          "base_uri": "https://localhost:8080/",
          "height": 312
        },
        "id": "ogOTGrVqgvBl",
        "outputId": "cd871b30-93d5-45d4-9226-ba6e8f2c9e6d"
      },
      "source": [
        "plt.subplot(211)\n",
        "plt.plot(his.history['loss'],color = 'blue',label = 'train')\n",
        "plt.plot(his.history['val_loss'],color = 'red',label = 'test')\n",
        "plt.title('Cross Entropy loss')\n",
        "plt.xlabel('Epoch number')\n",
        "plt.ylabel('loss')\n",
        "\n",
        "plt.subplot(212)\n",
        "plt.plot(his.history['accuracy'],color = 'blue',label = 'train')\n",
        "plt.plot(his.history['val_accuracy'],color = 'red',label = 'test')\n",
        "plt.title('Classification Accuracy')\n",
        "plt.xlabel('Epoch number')\n",
        "plt.ylabel('Accuracy')\n",
        "\n"
      ],
      "execution_count": null,
      "outputs": [
        {
          "output_type": "execute_result",
          "data": {
            "text/plain": [
              "Text(0, 0.5, 'Accuracy')"
            ]
          },
          "metadata": {},
          "execution_count": 12
        },
        {
          "output_type": "display_data",
          "data": {
            "image/png": "[encoded data removed]",
            "text/plain": [
              "<Figure size 432x288 with 2 Axes>"
            ]
          },
          "metadata": {
            "needs_background": "light"
          }
        }
      ]
    },
    {
      "cell_type": "code",
      "metadata": {
        "id": "i8mn_zFhQVsn"
      },
      "source": [
        ""
      ],
      "execution_count": null,
      "outputs": []
    }
  ]
}